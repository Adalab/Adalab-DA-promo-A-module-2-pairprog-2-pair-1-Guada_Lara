{
 "cells": [
  {
   "cell_type": "code",
   "execution_count": 2,
   "metadata": {},
   "outputs": [],
   "source": [
    "import numpy as np\n",
    "from scipy import stats # importando scipy.stats\n",
    "import seaborn as sns\n",
    "import pandas as pd\n",
    "import matplotlib.pyplot as plt"
   ]
  },
  {
   "cell_type": "markdown",
   "metadata": {},
   "source": [
    "**Los objetivos de hoy son:**\n",
    "\n",
    "1- **Extraer las siguentes estadísiticas del conjunto de datos para varias de las varibles disponibles:**\n",
    "\n",
    "-Utilizando métodos de pandas: media, mediana, moda, máximo y mínimo"
   ]
  },
  {
   "cell_type": "code",
   "execution_count": 26,
   "metadata": {},
   "outputs": [
    {
     "data": {
      "text/html": [
       "<div>\n",
       "<style scoped>\n",
       "    .dataframe tbody tr th:only-of-type {\n",
       "        vertical-align: middle;\n",
       "    }\n",
       "\n",
       "    .dataframe tbody tr th {\n",
       "        vertical-align: top;\n",
       "    }\n",
       "\n",
       "    .dataframe thead th {\n",
       "        text-align: right;\n",
       "    }\n",
       "</style>\n",
       "<table border=\"1\" class=\"dataframe\">\n",
       "  <thead>\n",
       "    <tr style=\"text-align: right;\">\n",
       "      <th></th>\n",
       "      <th>Overall rank</th>\n",
       "      <th>Country or region</th>\n",
       "      <th>Score</th>\n",
       "      <th>GDP per capita</th>\n",
       "      <th>Social support</th>\n",
       "      <th>Healthy life expectancy</th>\n",
       "      <th>Freedom to make life choices</th>\n",
       "      <th>Generosity</th>\n",
       "      <th>Perceptions of corruption</th>\n",
       "    </tr>\n",
       "  </thead>\n",
       "  <tbody>\n",
       "    <tr>\n",
       "      <th>0</th>\n",
       "      <td>1</td>\n",
       "      <td>Finland</td>\n",
       "      <td>7.769</td>\n",
       "      <td>1.340</td>\n",
       "      <td>1.587</td>\n",
       "      <td>0.986</td>\n",
       "      <td>0.596</td>\n",
       "      <td>0.153</td>\n",
       "      <td>0.393</td>\n",
       "    </tr>\n",
       "    <tr>\n",
       "      <th>1</th>\n",
       "      <td>2</td>\n",
       "      <td>Denmark</td>\n",
       "      <td>7.600</td>\n",
       "      <td>1.383</td>\n",
       "      <td>1.573</td>\n",
       "      <td>0.996</td>\n",
       "      <td>0.592</td>\n",
       "      <td>0.252</td>\n",
       "      <td>0.410</td>\n",
       "    </tr>\n",
       "    <tr>\n",
       "      <th>2</th>\n",
       "      <td>3</td>\n",
       "      <td>Norway</td>\n",
       "      <td>7.554</td>\n",
       "      <td>1.488</td>\n",
       "      <td>1.582</td>\n",
       "      <td>1.028</td>\n",
       "      <td>0.603</td>\n",
       "      <td>0.271</td>\n",
       "      <td>0.341</td>\n",
       "    </tr>\n",
       "    <tr>\n",
       "      <th>3</th>\n",
       "      <td>4</td>\n",
       "      <td>Iceland</td>\n",
       "      <td>7.494</td>\n",
       "      <td>1.380</td>\n",
       "      <td>1.624</td>\n",
       "      <td>1.026</td>\n",
       "      <td>0.591</td>\n",
       "      <td>0.354</td>\n",
       "      <td>0.118</td>\n",
       "    </tr>\n",
       "    <tr>\n",
       "      <th>4</th>\n",
       "      <td>5</td>\n",
       "      <td>Netherlands</td>\n",
       "      <td>7.488</td>\n",
       "      <td>1.396</td>\n",
       "      <td>1.522</td>\n",
       "      <td>0.999</td>\n",
       "      <td>0.557</td>\n",
       "      <td>0.322</td>\n",
       "      <td>0.298</td>\n",
       "    </tr>\n",
       "  </tbody>\n",
       "</table>\n",
       "</div>"
      ],
      "text/plain": [
       "   Overall rank Country or region  Score  GDP per capita  Social support  \\\n",
       "0             1           Finland  7.769           1.340           1.587   \n",
       "1             2           Denmark  7.600           1.383           1.573   \n",
       "2             3            Norway  7.554           1.488           1.582   \n",
       "3             4           Iceland  7.494           1.380           1.624   \n",
       "4             5       Netherlands  7.488           1.396           1.522   \n",
       "\n",
       "   Healthy life expectancy  Freedom to make life choices  Generosity  \\\n",
       "0                    0.986                         0.596       0.153   \n",
       "1                    0.996                         0.592       0.252   \n",
       "2                    1.028                         0.603       0.271   \n",
       "3                    1.026                         0.591       0.354   \n",
       "4                    0.999                         0.557       0.322   \n",
       "\n",
       "   Perceptions of corruption  \n",
       "0                      0.393  \n",
       "1                      0.410  \n",
       "2                      0.341  \n",
       "3                      0.118  \n",
       "4                      0.298  "
      ]
     },
     "execution_count": 26,
     "metadata": {},
     "output_type": "execute_result"
    }
   ],
   "source": [
    "df = pd.read_csv(\"/mnt/d/Descargas/Python/Modulo 2/Pair Programming 2/2019.csv\")\n",
    "df.head()"
   ]
  },
  {
   "cell_type": "code",
   "execution_count": null,
   "metadata": {},
   "outputs": [],
   "source": [
    "df_proyecto = df[[\"GDP per capita\", \"Perceptions of corruption\"]]\n",
    "df_proyecto.head(3)"
   ]
  },
  {
   "cell_type": "code",
   "execution_count": null,
   "metadata": {},
   "outputs": [],
   "source": [
    "#Crear columna nueva para poder hacer Gruop By y frecuencias\n",
    "\n",
    "df[\"columna_nueva\"] = df[]"
   ]
  },
  {
   "cell_type": "code",
   "execution_count": 10,
   "metadata": {},
   "outputs": [],
   "source": [
    "gdp = df[\"GDP per capita\"]\n",
    "corrupcion = df[\"Perceptions of corruption\"]"
   ]
  },
  {
   "cell_type": "code",
   "execution_count": 12,
   "metadata": {},
   "outputs": [
    {
     "name": "stdout",
     "output_type": "stream",
     "text": [
      "count    156.000000\n",
      "mean       0.905147\n",
      "std        0.398389\n",
      "min        0.000000\n",
      "25%        0.602750\n",
      "50%        0.960000\n",
      "75%        1.232500\n",
      "max        1.684000\n",
      "Name: GDP per capita, dtype: float64\n",
      "0        1.340\n",
      "1        2.723\n",
      "2        4.211\n",
      "3        5.591\n",
      "4        6.987\n",
      "        ...   \n",
      "151    140.045\n",
      "152    140.521\n",
      "153    140.871\n",
      "154    140.897\n",
      "155    141.203\n",
      "Name: GDP per capita, Length: 156, dtype: float64\n",
      "0.9051474358974363\n"
     ]
    }
   ],
   "source": [
    "print(gdp.describe()) # describe muestra un resumen con los estadísticos más comunes para el dataframe \n",
    "print(gdp.cumsum()) # suma acumulada por columnas\n",
    "print(gdp.mean()) # media aritmética de cada columna\n"
   ]
  },
  {
   "cell_type": "code",
   "execution_count": 13,
   "metadata": {},
   "outputs": [
    {
     "name": "stdout",
     "output_type": "stream",
     "text": [
      "count    156.000000\n",
      "mean       0.110603\n",
      "std        0.094538\n",
      "min        0.000000\n",
      "25%        0.047000\n",
      "50%        0.085500\n",
      "75%        0.141250\n",
      "max        0.453000\n",
      "Name: Perceptions of corruption, dtype: float64\n",
      "0       0.393\n",
      "1       0.803\n",
      "2       1.144\n",
      "3       1.262\n",
      "4       1.560\n",
      "        ...  \n",
      "151    16.956\n",
      "152    17.103\n",
      "153    17.128\n",
      "154    17.163\n",
      "155    17.254\n",
      "Name: Perceptions of corruption, Length: 156, dtype: float64\n",
      "0.11060256410256411\n"
     ]
    }
   ],
   "source": [
    "print(corrupcion.describe()) # describe muestra un resumen con los estadísticos más comunes para el dataframe \n",
    "print(corrupcion.cumsum()) # suma acumulada por columnas\n",
    "print(corrupcion.mean()) # media aritmética de cada columna\n"
   ]
  },
  {
   "cell_type": "markdown",
   "metadata": {},
   "source": [
    "-Percentiles 25, 75"
   ]
  },
  {
   "cell_type": "code",
   "execution_count": 14,
   "metadata": {},
   "outputs": [
    {
     "data": {
      "text/plain": [
       "0.60275"
      ]
     },
     "execution_count": 14,
     "metadata": {},
     "output_type": "execute_result"
    }
   ],
   "source": [
    "percentil25gdp = np.percentile(gdp, 25, axis=None, out=None, overwrite_input=False, interpolation='linear', keepdims=False)\n",
    "percentil25gdp"
   ]
  },
  {
   "cell_type": "code",
   "execution_count": 15,
   "metadata": {},
   "outputs": [
    {
     "data": {
      "text/plain": [
       "1.2325000000000002"
      ]
     },
     "execution_count": 15,
     "metadata": {},
     "output_type": "execute_result"
    }
   ],
   "source": [
    "percentil75gdp = np.percentile(gdp, 75, axis=None, out=None, overwrite_input=False, interpolation='linear', keepdims=False)\n",
    "percentil75gdp"
   ]
  },
  {
   "cell_type": "code",
   "execution_count": 16,
   "metadata": {},
   "outputs": [
    {
     "data": {
      "text/plain": [
       "0.047"
      ]
     },
     "execution_count": 16,
     "metadata": {},
     "output_type": "execute_result"
    }
   ],
   "source": [
    "percentil25corru = np.percentile(corrupcion, 25, axis=None, out=None, overwrite_input=False, interpolation='linear', keepdims=False)\n",
    "percentil25corru"
   ]
  },
  {
   "cell_type": "code",
   "execution_count": 17,
   "metadata": {},
   "outputs": [
    {
     "data": {
      "text/plain": [
       "0.14125"
      ]
     },
     "execution_count": 17,
     "metadata": {},
     "output_type": "execute_result"
    }
   ],
   "source": [
    "percentil75corru = np.percentile(corrupcion, 75, axis=None, out=None, overwrite_input=False, interpolation='linear', keepdims=False)\n",
    "percentil75corru"
   ]
  },
  {
   "cell_type": "markdown",
   "metadata": {},
   "source": []
  },
  {
   "cell_type": "markdown",
   "metadata": {},
   "source": [
    "-Rango Intercualtílico"
   ]
  },
  {
   "cell_type": "code",
   "execution_count": 18,
   "metadata": {},
   "outputs": [
    {
     "name": "stdout",
     "output_type": "stream",
     "text": [
      "El rango intercuartílico es: 0.6297500000000001\n"
     ]
    }
   ],
   "source": [
    "# Calculamos los percentiles 75 y 25 (que serían el primer y tercer cuartil)\n",
    "q3, q1 = np.percentile(gdp, [75, 25])\n",
    "# Calculamos el rango intercuartílico como la resta de los valores del tercer y primer cuartil\n",
    "riqgdp = q3 - q1\n",
    "print(\"El rango intercuartílico es:\", riqgdp)"
   ]
  },
  {
   "cell_type": "code",
   "execution_count": 19,
   "metadata": {},
   "outputs": [
    {
     "name": "stdout",
     "output_type": "stream",
     "text": [
      "El rango intercuartílico es: 0.09424999999999999\n"
     ]
    }
   ],
   "source": [
    "# Calculamos los percentiles 75 y 25 (que serían el primer y tercer cuartil)\n",
    "q3, q1 = np.percentile(corrupcion, [75, 25])\n",
    "# Calculamos el rango intercuartílico como la resta de los valores del tercer y primer cuartil\n",
    "riqcorru = q3 - q1\n",
    "print(\"El rango intercuartílico es:\", riqcorru)"
   ]
  },
  {
   "cell_type": "markdown",
   "metadata": {},
   "source": []
  },
  {
   "cell_type": "markdown",
   "metadata": {},
   "source": [
    "-Boxplot de algunas variables"
   ]
  },
  {
   "cell_type": "code",
   "execution_count": 25,
   "metadata": {},
   "outputs": [
    {
     "data": {
      "text/plain": [
       "Text(0.5, 0, 'GDP                                                                Corrupcion')"
      ]
     },
     "execution_count": 25,
     "metadata": {},
     "output_type": "execute_result"
    },
    {
     "data": {
      "image/png": "[encoded data removed]",
      "text/plain": [
       "<Figure size 648x432 with 1 Axes>"
      ]
     },
     "metadata": {
      "needs_background": "light"
     },
     "output_type": "display_data"
    }
   ],
   "source": [
    "# Creando el objeto figura con matplotlib\n",
    "fig = plt.figure(1, figsize=(9, 6))\n",
    "\n",
    "# Creando el subgrafico al que añadiremos el grafico de cajas\n",
    "ax = fig.add_subplot(111)\n",
    "\n",
    "# Creando el grafico de cajas\n",
    "bp = ax.boxplot(df_proyecto)\n",
    "\n",
    "# Visualizar mas facilmente los datos atípicos\n",
    "# En 'fliers' se guardan aquellos datos que se encuentran más aislados de los demás (outliers)\n",
    "for flier in bp['fliers']:\n",
    "    flier.set(marker='o', color='red', alpha=0.5) # Los dibujamos con un marcador especial\n",
    "\n",
    "ax.set_xlabel(xlabel='GDP                                                                Corrupcion')"
   ]
  },
  {
   "cell_type": "markdown",
   "metadata": {},
   "source": []
  },
  {
   "cell_type": "markdown",
   "metadata": {},
   "source": [
    "-Tabla de frecuencias\n",
    "\n",
    "--Variables cualitativas"
   ]
  },
  {
   "cell_type": "code",
   "execution_count": 27,
   "metadata": {},
   "outputs": [
    {
     "data": {
      "text/html": [
       "<div>\n",
       "<style scoped>\n",
       "    .dataframe tbody tr th:only-of-type {\n",
       "        vertical-align: middle;\n",
       "    }\n",
       "\n",
       "    .dataframe tbody tr th {\n",
       "        vertical-align: top;\n",
       "    }\n",
       "\n",
       "    .dataframe thead th {\n",
       "        text-align: right;\n",
       "    }\n",
       "</style>\n",
       "<table border=\"1\" class=\"dataframe\">\n",
       "  <thead>\n",
       "    <tr style=\"text-align: right;\">\n",
       "      <th></th>\n",
       "      <th>Country or region</th>\n",
       "    </tr>\n",
       "  </thead>\n",
       "  <tbody>\n",
       "    <tr>\n",
       "      <th>count</th>\n",
       "      <td>156</td>\n",
       "    </tr>\n",
       "    <tr>\n",
       "      <th>unique</th>\n",
       "      <td>156</td>\n",
       "    </tr>\n",
       "    <tr>\n",
       "      <th>top</th>\n",
       "      <td>Finland</td>\n",
       "    </tr>\n",
       "    <tr>\n",
       "      <th>freq</th>\n",
       "      <td>1</td>\n",
       "    </tr>\n",
       "  </tbody>\n",
       "</table>\n",
       "</div>"
      ],
      "text/plain": [
       "       Country or region\n",
       "count                156\n",
       "unique               156\n",
       "top              Finland\n",
       "freq                   1"
      ]
     },
     "execution_count": 27,
     "metadata": {},
     "output_type": "execute_result"
    }
   ],
   "source": [
    "df.describe(include=\"O\")"
   ]
  },
  {
   "cell_type": "code",
   "execution_count": 34,
   "metadata": {},
   "outputs": [
    {
     "name": "stdout",
     "output_type": "stream",
     "text": [
      "                   frecuencia\n",
      "Country or region         156\n"
     ]
    }
   ],
   "source": [
    "# Primero agrupamos el dataframe por la columna species.\n",
    "# df_country = df.groupby(\"Country or region\") #Devolvera un objeto DataFrameGroupBy\n",
    "# print(df_country)\n",
    "# Aplicamos el método agg para agregar los datos por la columa species.\n",
    "frecuencias_pais = df.agg(frecuencia=(\"Country or region\", \"count\")).T\n",
    "# Imprimimos por pantalla el resultado de la agrupación y agregación\n",
    "print(frecuencias_pais)"
   ]
  },
  {
   "cell_type": "markdown",
   "metadata": {},
   "source": []
  },
  {
   "cell_type": "markdown",
   "metadata": {},
   "source": [
    "--Variables cuantitativas"
   ]
  },
  {
   "cell_type": "code",
   "execution_count": 35,
   "metadata": {},
   "outputs": [
    {
     "name": "stdout",
     "output_type": "stream",
     "text": [
      "            GDP per capita\n",
      "frecuencia             156\n"
     ]
    }
   ],
   "source": [
    "\n",
    "iris_sepal_lengths =  df.agg(frecuencia=(\"GDP per capita\", \"count\"))\n",
    "print(iris_sepal_lengths)"
   ]
  },
  {
   "cell_type": "code",
   "execution_count": null,
   "metadata": {},
   "outputs": [],
   "source": []
  },
  {
   "cell_type": "code",
   "execution_count": null,
   "metadata": {},
   "outputs": [],
   "source": [
    "iris[\"sepal_length_group\"] = pd.cut(iris[\"sepal_length\"], bins=5)\n",
    "iris_sepal = iris.groupby(\"sepal_length_group\")\n",
    "iris_sepal_lengths =  iris_sepal.agg(frecuencia=(\"sepal_length\", \"count\"))\n",
    "print(iris_sepal_lengths)"
   ]
  },
  {
   "cell_type": "markdown",
   "metadata": {},
   "source": [
    "--Frecuencia acumulada"
   ]
  },
  {
   "cell_type": "code",
   "execution_count": null,
   "metadata": {},
   "outputs": [],
   "source": [
    "bins = np.arange(4, 8+0.5, 0.5)\n",
    "\n",
    "iris[\"sepal_length_group\"] = pd.cut(iris[\"sepal_length\"], bins=bins)\n",
    "\n",
    "iris[\"sepal_length_group\"] = pd.cut(iris[\"sepal_length\"], bins=bins)\n",
    "iris_sepal = iris.groupby(\"sepal_length_group\")\n",
    "iris_sepal_lengths =  iris_sepal.agg(frecuencia=(\"sepal_length\", \"count\"))\n",
    "#Calculamos una nueva columna del DataFrame llamada frecuencia acumulada usando cumsum() sobre la frecuencia\n",
    "iris_sepal_lengths[\"frecuencia_acumulada\"] = iris_sepal_lengths[\"frecuencia\"].cumsum()\n",
    "#Visualizamos el dataframe resultado\n",
    "iris_sepal_lengths"
   ]
  },
  {
   "cell_type": "markdown",
   "metadata": {},
   "source": [
    "--Representación de al menos una tabla de frecuencias"
   ]
  },
  {
   "cell_type": "code",
   "execution_count": null,
   "metadata": {},
   "outputs": [],
   "source": [
    "plt.rcdefaults()\n",
    "\n",
    "# Primero agrupamos el dataframe por la columna species.\n",
    "iris_species = iris.groupby(\"species\") #Devolvera un objeto DataFrameGroupBy\n",
    "# Aplicamos el método agg para agregar los datos por la columa species.\n",
    "frecuencias_species = iris_species.agg(frecuencia=(\"species\", \"count\")) \n",
    "# Pandas nos proporciona el metodo plot.bar() para hacer un gráfico de barras de manera sencilla\n",
    "frecuencias_species.plot.bar()"
   ]
  },
  {
   "cell_type": "markdown",
   "metadata": {},
   "source": [
    "2. **Interpretación de los resultados.**\n",
    "\n",
    "-Ahora interpreta los resultados obtenidos de los diferentes estadísticos estudiados haciendo incapié en aspectos interesantes de tus datos y explica lo mejor posible la naturaleza de los mismos."
   ]
  },
  {
   "cell_type": "code",
   "execution_count": null,
   "metadata": {},
   "outputs": [],
   "source": []
  }
 ],
 "metadata": {
  "interpreter": {
   "hash": "a7767d930544d914483bb7fc45a359b90234f0fc056fbb3956e60e9a90a88fdd"
  },
  "kernelspec": {
   "display_name": "Python 3.9.7 ('base')",
   "language": "python",
   "name": "python3"
  },
  "language_info": {
   "codemirror_mode": {
    "name": "ipython",
    "version": 3
   },
   "file_extension": ".py",
   "mimetype": "text/x-python",
   "name": "python",
   "nbconvert_exporter": "python",
   "pygments_lexer": "ipython3",
   "version": "3.9.7"
  },
  "orig_nbformat": 4
 },
 "nbformat": 4,
 "nbformat_minor": 2
}
