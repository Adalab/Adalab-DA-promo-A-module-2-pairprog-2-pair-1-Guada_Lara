{
 "cells": [
  {
   "cell_type": "code",
   "execution_count": 2,
   "metadata": {},
   "outputs": [
    {
     "data": {
      "text/html": [
       "<div>\n",
       "<style scoped>\n",
       "    .dataframe tbody tr th:only-of-type {\n",
       "        vertical-align: middle;\n",
       "    }\n",
       "\n",
       "    .dataframe tbody tr th {\n",
       "        vertical-align: top;\n",
       "    }\n",
       "\n",
       "    .dataframe thead th {\n",
       "        text-align: right;\n",
       "    }\n",
       "</style>\n",
       "<table border=\"1\" class=\"dataframe\">\n",
       "  <thead>\n",
       "    <tr style=\"text-align: right;\">\n",
       "      <th></th>\n",
       "      <th>Overall rank</th>\n",
       "      <th>Country or region</th>\n",
       "      <th>Score</th>\n",
       "      <th>GDP per capita</th>\n",
       "      <th>Social support</th>\n",
       "      <th>Healthy life expectancy</th>\n",
       "      <th>Freedom to make life choices</th>\n",
       "      <th>Generosity</th>\n",
       "      <th>Perceptions of corruption</th>\n",
       "    </tr>\n",
       "  </thead>\n",
       "  <tbody>\n",
       "    <tr>\n",
       "      <th>0</th>\n",
       "      <td>1</td>\n",
       "      <td>Finland</td>\n",
       "      <td>7.769</td>\n",
       "      <td>1.340</td>\n",
       "      <td>1.587</td>\n",
       "      <td>0.986</td>\n",
       "      <td>0.596</td>\n",
       "      <td>0.153</td>\n",
       "      <td>0.393</td>\n",
       "    </tr>\n",
       "    <tr>\n",
       "      <th>1</th>\n",
       "      <td>2</td>\n",
       "      <td>Denmark</td>\n",
       "      <td>7.600</td>\n",
       "      <td>1.383</td>\n",
       "      <td>1.573</td>\n",
       "      <td>0.996</td>\n",
       "      <td>0.592</td>\n",
       "      <td>0.252</td>\n",
       "      <td>0.410</td>\n",
       "    </tr>\n",
       "    <tr>\n",
       "      <th>2</th>\n",
       "      <td>3</td>\n",
       "      <td>Norway</td>\n",
       "      <td>7.554</td>\n",
       "      <td>1.488</td>\n",
       "      <td>1.582</td>\n",
       "      <td>1.028</td>\n",
       "      <td>0.603</td>\n",
       "      <td>0.271</td>\n",
       "      <td>0.341</td>\n",
       "    </tr>\n",
       "    <tr>\n",
       "      <th>3</th>\n",
       "      <td>4</td>\n",
       "      <td>Iceland</td>\n",
       "      <td>7.494</td>\n",
       "      <td>1.380</td>\n",
       "      <td>1.624</td>\n",
       "      <td>1.026</td>\n",
       "      <td>0.591</td>\n",
       "      <td>0.354</td>\n",
       "      <td>0.118</td>\n",
       "    </tr>\n",
       "    <tr>\n",
       "      <th>4</th>\n",
       "      <td>5</td>\n",
       "      <td>Netherlands</td>\n",
       "      <td>7.488</td>\n",
       "      <td>1.396</td>\n",
       "      <td>1.522</td>\n",
       "      <td>0.999</td>\n",
       "      <td>0.557</td>\n",
       "      <td>0.322</td>\n",
       "      <td>0.298</td>\n",
       "    </tr>\n",
       "  </tbody>\n",
       "</table>\n",
       "</div>"
      ],
      "text/plain": [
       "   Overall rank Country or region  Score  GDP per capita  Social support  \\\n",
       "0             1           Finland  7.769           1.340           1.587   \n",
       "1             2           Denmark  7.600           1.383           1.573   \n",
       "2             3            Norway  7.554           1.488           1.582   \n",
       "3             4           Iceland  7.494           1.380           1.624   \n",
       "4             5       Netherlands  7.488           1.396           1.522   \n",
       "\n",
       "   Healthy life expectancy  Freedom to make life choices  Generosity  \\\n",
       "0                    0.986                         0.596       0.153   \n",
       "1                    0.996                         0.592       0.252   \n",
       "2                    1.028                         0.603       0.271   \n",
       "3                    1.026                         0.591       0.354   \n",
       "4                    0.999                         0.557       0.322   \n",
       "\n",
       "   Perceptions of corruption  \n",
       "0                      0.393  \n",
       "1                      0.410  \n",
       "2                      0.341  \n",
       "3                      0.118  \n",
       "4                      0.298  "
      ]
     },
     "execution_count": 2,
     "metadata": {},
     "output_type": "execute_result"
    }
   ],
   "source": [
    "import numpy as np\n",
    "from scipy import stats # importando scipy.stats.\n",
    "import pandas as pd # importando pandas\n",
    "df = pd.read_csv(\"Pair Programming 2/2019.csv\")\n",
    "df.head()\n"
   ]
  },
  {
   "cell_type": "markdown",
   "metadata": {},
   "source": [
    "**Los objetivos de hoy son:**\n",
    "\n",
    "\n",
    "1- **Buscar un conjunto de datos a analizar:**\n",
    "\n",
    "Se recomienda que el conjunto de datos a analizar tenga variables numéricas y categóricas. Ya que tambien se analizarán."
   ]
  },
  {
   "cell_type": "markdown",
   "metadata": {},
   "source": [
    "*Hemos seleccionado un dataset de la página \"Kaggle\", que es un informe que trata sobre el estado de la felicidad en el mundo y que recoge indicadores adicionales a los económicos para tratar el bienestar.*"
   ]
  },
  {
   "cell_type": "markdown",
   "metadata": {},
   "source": [
    "2- **Extraer las siguentes estadísiticas del conjunto de datos para varias de las varibles disponibles:**\n",
    "\n",
    "-**Media**"
   ]
  },
  {
   "cell_type": "code",
   "execution_count": 11,
   "metadata": {},
   "outputs": [
    {
     "data": {
      "text/html": [
       "<div>\n",
       "<style scoped>\n",
       "    .dataframe tbody tr th:only-of-type {\n",
       "        vertical-align: middle;\n",
       "    }\n",
       "\n",
       "    .dataframe tbody tr th {\n",
       "        vertical-align: top;\n",
       "    }\n",
       "\n",
       "    .dataframe thead th {\n",
       "        text-align: right;\n",
       "    }\n",
       "</style>\n",
       "<table border=\"1\" class=\"dataframe\">\n",
       "  <thead>\n",
       "    <tr style=\"text-align: right;\">\n",
       "      <th></th>\n",
       "      <th>count</th>\n",
       "      <th>mean</th>\n",
       "      <th>std</th>\n",
       "      <th>min</th>\n",
       "      <th>25%</th>\n",
       "      <th>50%</th>\n",
       "      <th>75%</th>\n",
       "      <th>max</th>\n",
       "    </tr>\n",
       "  </thead>\n",
       "  <tbody>\n",
       "    <tr>\n",
       "      <th>Overall rank</th>\n",
       "      <td>156.0</td>\n",
       "      <td>78.500000</td>\n",
       "      <td>45.177428</td>\n",
       "      <td>1.000</td>\n",
       "      <td>39.75000</td>\n",
       "      <td>78.5000</td>\n",
       "      <td>117.25000</td>\n",
       "      <td>156.000</td>\n",
       "    </tr>\n",
       "    <tr>\n",
       "      <th>Score</th>\n",
       "      <td>156.0</td>\n",
       "      <td>5.407096</td>\n",
       "      <td>1.113120</td>\n",
       "      <td>2.853</td>\n",
       "      <td>4.54450</td>\n",
       "      <td>5.3795</td>\n",
       "      <td>6.18450</td>\n",
       "      <td>7.769</td>\n",
       "    </tr>\n",
       "    <tr>\n",
       "      <th>GDP per capita</th>\n",
       "      <td>156.0</td>\n",
       "      <td>0.905147</td>\n",
       "      <td>0.398389</td>\n",
       "      <td>0.000</td>\n",
       "      <td>0.60275</td>\n",
       "      <td>0.9600</td>\n",
       "      <td>1.23250</td>\n",
       "      <td>1.684</td>\n",
       "    </tr>\n",
       "    <tr>\n",
       "      <th>Social support</th>\n",
       "      <td>156.0</td>\n",
       "      <td>1.208814</td>\n",
       "      <td>0.299191</td>\n",
       "      <td>0.000</td>\n",
       "      <td>1.05575</td>\n",
       "      <td>1.2715</td>\n",
       "      <td>1.45250</td>\n",
       "      <td>1.624</td>\n",
       "    </tr>\n",
       "    <tr>\n",
       "      <th>Healthy life expectancy</th>\n",
       "      <td>156.0</td>\n",
       "      <td>0.725244</td>\n",
       "      <td>0.242124</td>\n",
       "      <td>0.000</td>\n",
       "      <td>0.54775</td>\n",
       "      <td>0.7890</td>\n",
       "      <td>0.88175</td>\n",
       "      <td>1.141</td>\n",
       "    </tr>\n",
       "    <tr>\n",
       "      <th>Freedom to make life choices</th>\n",
       "      <td>156.0</td>\n",
       "      <td>0.392571</td>\n",
       "      <td>0.143289</td>\n",
       "      <td>0.000</td>\n",
       "      <td>0.30800</td>\n",
       "      <td>0.4170</td>\n",
       "      <td>0.50725</td>\n",
       "      <td>0.631</td>\n",
       "    </tr>\n",
       "    <tr>\n",
       "      <th>Generosity</th>\n",
       "      <td>156.0</td>\n",
       "      <td>0.184846</td>\n",
       "      <td>0.095254</td>\n",
       "      <td>0.000</td>\n",
       "      <td>0.10875</td>\n",
       "      <td>0.1775</td>\n",
       "      <td>0.24825</td>\n",
       "      <td>0.566</td>\n",
       "    </tr>\n",
       "    <tr>\n",
       "      <th>Perceptions of corruption</th>\n",
       "      <td>156.0</td>\n",
       "      <td>0.110603</td>\n",
       "      <td>0.094538</td>\n",
       "      <td>0.000</td>\n",
       "      <td>0.04700</td>\n",
       "      <td>0.0855</td>\n",
       "      <td>0.14125</td>\n",
       "      <td>0.453</td>\n",
       "    </tr>\n",
       "  </tbody>\n",
       "</table>\n",
       "</div>"
      ],
      "text/plain": [
       "                              count       mean        std    min       25%  \\\n",
       "Overall rank                  156.0  78.500000  45.177428  1.000  39.75000   \n",
       "Score                         156.0   5.407096   1.113120  2.853   4.54450   \n",
       "GDP per capita                156.0   0.905147   0.398389  0.000   0.60275   \n",
       "Social support                156.0   1.208814   0.299191  0.000   1.05575   \n",
       "Healthy life expectancy       156.0   0.725244   0.242124  0.000   0.54775   \n",
       "Freedom to make life choices  156.0   0.392571   0.143289  0.000   0.30800   \n",
       "Generosity                    156.0   0.184846   0.095254  0.000   0.10875   \n",
       "Perceptions of corruption     156.0   0.110603   0.094538  0.000   0.04700   \n",
       "\n",
       "                                  50%        75%      max  \n",
       "Overall rank                  78.5000  117.25000  156.000  \n",
       "Score                          5.3795    6.18450    7.769  \n",
       "GDP per capita                 0.9600    1.23250    1.684  \n",
       "Social support                 1.2715    1.45250    1.624  \n",
       "Healthy life expectancy        0.7890    0.88175    1.141  \n",
       "Freedom to make life choices   0.4170    0.50725    0.631  \n",
       "Generosity                     0.1775    0.24825    0.566  \n",
       "Perceptions of corruption      0.0855    0.14125    0.453  "
      ]
     },
     "execution_count": 11,
     "metadata": {},
     "output_type": "execute_result"
    }
   ],
   "source": [
    "df.describe().T"
   ]
  },
  {
   "cell_type": "code",
   "execution_count": 6,
   "metadata": {},
   "outputs": [
    {
     "data": {
      "text/html": [
       "<div>\n",
       "<style scoped>\n",
       "    .dataframe tbody tr th:only-of-type {\n",
       "        vertical-align: middle;\n",
       "    }\n",
       "\n",
       "    .dataframe tbody tr th {\n",
       "        vertical-align: top;\n",
       "    }\n",
       "\n",
       "    .dataframe thead th {\n",
       "        text-align: right;\n",
       "    }\n",
       "</style>\n",
       "<table border=\"1\" class=\"dataframe\">\n",
       "  <thead>\n",
       "    <tr style=\"text-align: right;\">\n",
       "      <th></th>\n",
       "      <th>Overall rank</th>\n",
       "      <th>Country or region</th>\n",
       "      <th>Score</th>\n",
       "      <th>GDP per capita</th>\n",
       "      <th>Social support</th>\n",
       "      <th>Healthy life expectancy</th>\n",
       "      <th>Freedom to make life choices</th>\n",
       "      <th>Generosity</th>\n",
       "      <th>Perceptions of corruption</th>\n",
       "    </tr>\n",
       "  </thead>\n",
       "  <tbody>\n",
       "    <tr>\n",
       "      <th>29</th>\n",
       "      <td>30</td>\n",
       "      <td>Spain</td>\n",
       "      <td>6.354</td>\n",
       "      <td>1.286</td>\n",
       "      <td>1.484</td>\n",
       "      <td>1.062</td>\n",
       "      <td>0.362</td>\n",
       "      <td>0.153</td>\n",
       "      <td>0.079</td>\n",
       "    </tr>\n",
       "  </tbody>\n",
       "</table>\n",
       "</div>"
      ],
      "text/plain": [
       "    Overall rank Country or region  Score  GDP per capita  Social support  \\\n",
       "29            30             Spain  6.354           1.286           1.484   \n",
       "\n",
       "    Healthy life expectancy  Freedom to make life choices  Generosity  \\\n",
       "29                    1.062                         0.362       0.153   \n",
       "\n",
       "    Perceptions of corruption  \n",
       "29                      0.079  "
      ]
     },
     "execution_count": 6,
     "metadata": {},
     "output_type": "execute_result"
    }
   ],
   "source": [
    "df_españa = df[df[\"Country or region\"] == \"Spain\"]\n",
    "df_españa"
   ]
  },
  {
   "cell_type": "code",
   "execution_count": 9,
   "metadata": {},
   "outputs": [
    {
     "data": {
      "text/plain": [
       "0.9051474358974363"
      ]
     },
     "execution_count": 9,
     "metadata": {},
     "output_type": "execute_result"
    }
   ],
   "source": [
    "media_gdp = df[\"GDP per capita\"].mean()\n",
    "media_gdp\n"
   ]
  },
  {
   "cell_type": "code",
   "execution_count": 12,
   "metadata": {},
   "outputs": [
    {
     "data": {
      "text/plain": [
       "0.7252435897435898"
      ]
     },
     "execution_count": 12,
     "metadata": {},
     "output_type": "execute_result"
    }
   ],
   "source": [
    "media_healthy = df[\"Healthy life expectancy\"].mean()\n",
    "media_healthy"
   ]
  },
  {
   "cell_type": "code",
   "execution_count": 13,
   "metadata": {},
   "outputs": [
    {
     "data": {
      "text/plain": [
       "0.11060256410256411"
      ]
     },
     "execution_count": 13,
     "metadata": {},
     "output_type": "execute_result"
    }
   ],
   "source": [
    "media_corruption = np.mean(df[\"Perceptions of corruption\"])\n",
    "media_corruption"
   ]
  },
  {
   "cell_type": "markdown",
   "metadata": {},
   "source": [
    "- **Desviación con respecto de la media**"
   ]
  },
  {
   "cell_type": "code",
   "execution_count": 15,
   "metadata": {},
   "outputs": [
    {
     "data": {
      "text/plain": [
       "0      0.434853\n",
       "1      0.477853\n",
       "2      0.582853\n",
       "3      0.474853\n",
       "4      0.490853\n",
       "         ...   \n",
       "151    0.546147\n",
       "152    0.429147\n",
       "153    0.555147\n",
       "154    0.879147\n",
       "155    0.599147\n",
       "Name: GDP per capita, Length: 156, dtype: float64"
      ]
     },
     "execution_count": 15,
     "metadata": {},
     "output_type": "execute_result"
    }
   ],
   "source": [
    "desviacion_mediagdp = np.abs(df[\"GDP per capita\"] - media_gdp)\n",
    "desviacion_mediagdp"
   ]
  },
  {
   "cell_type": "code",
   "execution_count": 16,
   "metadata": {},
   "outputs": [
    {
     "data": {
      "text/plain": [
       "0      0.260756\n",
       "1      0.270756\n",
       "2      0.302756\n",
       "3      0.300756\n",
       "4      0.273756\n",
       "         ...   \n",
       "151    0.111244\n",
       "152    0.226244\n",
       "153    0.364244\n",
       "154    0.620244\n",
       "155    0.430244\n",
       "Name: Healthy life expectancy, Length: 156, dtype: float64"
      ]
     },
     "execution_count": 16,
     "metadata": {},
     "output_type": "execute_result"
    }
   ],
   "source": [
    "desviacion_mediahealthy = np.abs(df[\"Healthy life expectancy\"] - media_healthy)\n",
    "desviacion_mediahealthy"
   ]
  },
  {
   "cell_type": "code",
   "execution_count": 17,
   "metadata": {},
   "outputs": [
    {
     "data": {
      "text/plain": [
       "0      0.282397\n",
       "1      0.299397\n",
       "2      0.230397\n",
       "3      0.007397\n",
       "4      0.187397\n",
       "         ...   \n",
       "151    0.300397\n",
       "152    0.036397\n",
       "153    0.085603\n",
       "154    0.075603\n",
       "155    0.019603\n",
       "Name: Perceptions of corruption, Length: 156, dtype: float64"
      ]
     },
     "execution_count": 17,
     "metadata": {},
     "output_type": "execute_result"
    }
   ],
   "source": [
    "desviacion_mediacorruption = np.abs(df[\"Perceptions of corruption\"] - media_corruption)\n",
    "desviacion_mediacorruption"
   ]
  },
  {
   "cell_type": "markdown",
   "metadata": {},
   "source": [
    "- **Varianza**"
   ]
  },
  {
   "cell_type": "code",
   "execution_count": 18,
   "metadata": {},
   "outputs": [
    {
     "data": {
      "text/plain": [
       "0.15769676672419455"
      ]
     },
     "execution_count": 18,
     "metadata": {},
     "output_type": "execute_result"
    }
   ],
   "source": [
    "varianza_gdp = np.var(df[\"GDP per capita\"])\n",
    "varianza_gdp"
   ]
  },
  {
   "cell_type": "code",
   "execution_count": 19,
   "metadata": {},
   "outputs": [
    {
     "data": {
      "text/plain": [
       "0.05824823553583172"
      ]
     },
     "execution_count": 19,
     "metadata": {},
     "output_type": "execute_result"
    }
   ],
   "source": [
    "varianza_healthy = np.var(df[\"Healthy life expectancy\"])\n",
    "varianza_healthy"
   ]
  },
  {
   "cell_type": "code",
   "execution_count": 20,
   "metadata": {},
   "outputs": [
    {
     "data": {
      "text/plain": [
       "0.008880111275476658"
      ]
     },
     "execution_count": 20,
     "metadata": {},
     "output_type": "execute_result"
    }
   ],
   "source": [
    "varianza_corruption = np.var(df[\"Perceptions of corruption\"])\n",
    "varianza_corruption"
   ]
  },
  {
   "cell_type": "markdown",
   "metadata": {},
   "source": [
    "- **Desviación típica**"
   ]
  },
  {
   "cell_type": "code",
   "execution_count": 21,
   "metadata": {},
   "outputs": [
    {
     "data": {
      "text/plain": [
       "0.39711052205172626"
      ]
     },
     "execution_count": 21,
     "metadata": {},
     "output_type": "execute_result"
    }
   ],
   "source": [
    "destipica_gdp = np.std(df[\"GDP per capita\"])\n",
    "destipica_gdp"
   ]
  },
  {
   "cell_type": "code",
   "execution_count": 22,
   "metadata": {},
   "outputs": [
    {
     "data": {
      "text/plain": [
       "0.24134671229546867"
      ]
     },
     "execution_count": 22,
     "metadata": {},
     "output_type": "execute_result"
    }
   ],
   "source": [
    "destipica_healthy = np.std(df[\"Healthy life expectancy\"])\n",
    "destipica_healthy"
   ]
  },
  {
   "cell_type": "code",
   "execution_count": 23,
   "metadata": {},
   "outputs": [
    {
     "data": {
      "text/plain": [
       "0.09423434233588442"
      ]
     },
     "execution_count": 23,
     "metadata": {},
     "output_type": "execute_result"
    }
   ],
   "source": [
    "destipica_corruption = np.std(df[\"Perceptions of corruption\"])\n",
    "destipica_corruption"
   ]
  },
  {
   "cell_type": "markdown",
   "metadata": {},
   "source": [
    "- **Moda**"
   ]
  },
  {
   "cell_type": "code",
   "execution_count": null,
   "metadata": {},
   "outputs": [],
   "source": [
    "#moda, frecuencia = stats.mode(datos)"
   ]
  }
 ],
 "metadata": {
  "interpreter": {
   "hash": "a7767d930544d914483bb7fc45a359b90234f0fc056fbb3956e60e9a90a88fdd"
  },
  "kernelspec": {
   "display_name": "Python 3.9.7 ('base')",
   "language": "python",
   "name": "python3"
  },
  "language_info": {
   "codemirror_mode": {
    "name": "ipython",
    "version": 3
   },
   "file_extension": ".py",
   "mimetype": "text/x-python",
   "name": "python",
   "nbconvert_exporter": "python",
   "pygments_lexer": "ipython3",
   "version": "3.9.7"
  },
  "orig_nbformat": 4
 },
 "nbformat": 4,
 "nbformat_minor": 2
}
