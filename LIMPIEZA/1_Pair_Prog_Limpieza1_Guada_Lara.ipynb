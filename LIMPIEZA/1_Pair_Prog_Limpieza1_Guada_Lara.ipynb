{
 "cells": [
  {
   "cell_type": "markdown",
   "metadata": {},
   "source": [
    "# 03/05 - Pair Programming Limpieza 1 - Guadalupe & Lara"
   ]
  },
  {
   "cell_type": "code",
   "execution_count": 4,
   "metadata": {},
   "outputs": [],
   "source": [
    "import pandas as pd"
   ]
  },
  {
   "cell_type": "code",
   "execution_count": 5,
   "metadata": {},
   "outputs": [],
   "source": [
    "df = pd.read_csv(\"union_ataques.csv\")\n",
    "df.head(2)\n",
    "\n",
    "df2 = df.copy()"
   ]
  },
  {
   "cell_type": "code",
   "execution_count": 6,
   "metadata": {},
   "outputs": [
    {
     "data": {
      "text/html": [
       "<div>\n",
       "<style scoped>\n",
       "    .dataframe tbody tr th:only-of-type {\n",
       "        vertical-align: middle;\n",
       "    }\n",
       "\n",
       "    .dataframe tbody tr th {\n",
       "        vertical-align: top;\n",
       "    }\n",
       "\n",
       "    .dataframe thead th {\n",
       "        text-align: right;\n",
       "    }\n",
       "</style>\n",
       "<table border=\"1\" class=\"dataframe\">\n",
       "  <thead>\n",
       "    <tr style=\"text-align: right;\">\n",
       "      <th></th>\n",
       "      <th>unnamed:_0</th>\n",
       "      <th>case_number</th>\n",
       "      <th>year</th>\n",
       "      <th>type</th>\n",
       "      <th>country</th>\n",
       "      <th>area</th>\n",
       "      <th>location</th>\n",
       "      <th>activity</th>\n",
       "      <th>name</th>\n",
       "      <th>sex_</th>\n",
       "      <th>...</th>\n",
       "      <th>href_formula</th>\n",
       "      <th>href</th>\n",
       "      <th>case_number.1</th>\n",
       "      <th>case_number.2</th>\n",
       "      <th>original_order</th>\n",
       "      <th>unnamed:_22</th>\n",
       "      <th>unnamed:_23</th>\n",
       "      <th>fatal_(y/n)</th>\n",
       "      <th>injury</th>\n",
       "      <th>date</th>\n",
       "    </tr>\n",
       "  </thead>\n",
       "  <tbody>\n",
       "    <tr>\n",
       "      <th>0</th>\n",
       "      <td>0</td>\n",
       "      <td>2018.06.25</td>\n",
       "      <td>2018.0</td>\n",
       "      <td>Boating</td>\n",
       "      <td>USA</td>\n",
       "      <td>California</td>\n",
       "      <td>Oceanside, San Diego County</td>\n",
       "      <td>Paddling</td>\n",
       "      <td>Julie Wolfe</td>\n",
       "      <td>F</td>\n",
       "      <td>...</td>\n",
       "      <td>http://sharkattackfile.net/spreadsheets/pdf_di...</td>\n",
       "      <td>http://sharkattackfile.net/spreadsheets/pdf_di...</td>\n",
       "      <td>2018.06.25</td>\n",
       "      <td>2018.06.25</td>\n",
       "      <td>6303.0</td>\n",
       "      <td>NaN</td>\n",
       "      <td>NaN</td>\n",
       "      <td>N</td>\n",
       "      <td>No injury to occupant, outrigger canoe and pad...</td>\n",
       "      <td>25-Jun-2018</td>\n",
       "    </tr>\n",
       "    <tr>\n",
       "      <th>1</th>\n",
       "      <td>1</td>\n",
       "      <td>2018.06.18</td>\n",
       "      <td>2018.0</td>\n",
       "      <td>Unprovoked</td>\n",
       "      <td>USA</td>\n",
       "      <td>Georgia</td>\n",
       "      <td>St. Simon Island, Glynn County</td>\n",
       "      <td>Standing</td>\n",
       "      <td>Adyson McNeely</td>\n",
       "      <td>F</td>\n",
       "      <td>...</td>\n",
       "      <td>http://sharkattackfile.net/spreadsheets/pdf_di...</td>\n",
       "      <td>http://sharkattackfile.net/spreadsheets/pdf_di...</td>\n",
       "      <td>2018.06.18</td>\n",
       "      <td>2018.06.18</td>\n",
       "      <td>6302.0</td>\n",
       "      <td>NaN</td>\n",
       "      <td>NaN</td>\n",
       "      <td>N</td>\n",
       "      <td>Minor injury to left thigh</td>\n",
       "      <td>18-Jun-2018</td>\n",
       "    </tr>\n",
       "  </tbody>\n",
       "</table>\n",
       "<p>2 rows × 25 columns</p>\n",
       "</div>"
      ],
      "text/plain": [
       "   unnamed:_0 case_number    year        type country        area  \\\n",
       "0           0  2018.06.25  2018.0     Boating     USA  California   \n",
       "1           1  2018.06.18  2018.0  Unprovoked     USA     Georgia   \n",
       "\n",
       "                         location  activity             name sex_  ...  \\\n",
       "0     Oceanside, San Diego County  Paddling      Julie Wolfe    F  ...   \n",
       "1  St. Simon Island, Glynn County  Standing  Adyson McNeely     F  ...   \n",
       "\n",
       "                                        href_formula  \\\n",
       "0  http://sharkattackfile.net/spreadsheets/pdf_di...   \n",
       "1  http://sharkattackfile.net/spreadsheets/pdf_di...   \n",
       "\n",
       "                                                href case_number.1  \\\n",
       "0  http://sharkattackfile.net/spreadsheets/pdf_di...    2018.06.25   \n",
       "1  http://sharkattackfile.net/spreadsheets/pdf_di...    2018.06.18   \n",
       "\n",
       "  case_number.2 original_order unnamed:_22 unnamed:_23 fatal_(y/n)  \\\n",
       "0    2018.06.25         6303.0         NaN         NaN           N   \n",
       "1    2018.06.18         6302.0         NaN         NaN           N   \n",
       "\n",
       "                                              injury         date  \n",
       "0  No injury to occupant, outrigger canoe and pad...  25-Jun-2018  \n",
       "1                         Minor injury to left thigh  18-Jun-2018  \n",
       "\n",
       "[2 rows x 25 columns]"
      ]
     },
     "execution_count": 6,
     "metadata": {},
     "output_type": "execute_result"
    }
   ],
   "source": [
    "columnas = {col : col.replace(\" \", \"_\").lower() for col in df2.columns}\n",
    "\n",
    "df2.rename(columns = columnas, inplace = True)\n",
    "\n",
    "df2.head(2)"
   ]
  },
  {
   "cell_type": "code",
   "execution_count": 7,
   "metadata": {},
   "outputs": [
    {
     "data": {
      "text/plain": [
       "Index(['unnamed:_0', 'case_number', 'year', 'type', 'country', 'area',\n",
       "       'location', 'activity', 'name', 'sex_', 'age', 'time', 'species_',\n",
       "       'investigator_or_source', 'pdf', 'href_formula', 'href',\n",
       "       'case_number.1', 'case_number.2', 'original_order', 'unnamed:_22',\n",
       "       'unnamed:_23', 'fatal_(y/n)', 'injury', 'date'],\n",
       "      dtype='object')"
      ]
     },
     "execution_count": 7,
     "metadata": {},
     "output_type": "execute_result"
    }
   ],
   "source": [
    "df2.columns"
   ]
  },
  {
   "cell_type": "code",
   "execution_count": 8,
   "metadata": {},
   "outputs": [],
   "source": [
    "df2.drop([\"href\", \"unnamed:_22\", \"unnamed:_23\", \"case_number.1\", \"case_number.2\", \"original_order\", \"investigator_or_source\", \"pdf\", \"href_formula\"], axis = 1, inplace = True)\n"
   ]
  },
  {
   "cell_type": "code",
   "execution_count": 9,
   "metadata": {},
   "outputs": [
    {
     "data": {
      "text/html": [
       "<div>\n",
       "<style scoped>\n",
       "    .dataframe tbody tr th:only-of-type {\n",
       "        vertical-align: middle;\n",
       "    }\n",
       "\n",
       "    .dataframe tbody tr th {\n",
       "        vertical-align: top;\n",
       "    }\n",
       "\n",
       "    .dataframe thead th {\n",
       "        text-align: right;\n",
       "    }\n",
       "</style>\n",
       "<table border=\"1\" class=\"dataframe\">\n",
       "  <thead>\n",
       "    <tr style=\"text-align: right;\">\n",
       "      <th></th>\n",
       "      <th>case_number</th>\n",
       "      <th>year</th>\n",
       "      <th>type</th>\n",
       "      <th>country</th>\n",
       "      <th>area</th>\n",
       "      <th>location</th>\n",
       "      <th>activity</th>\n",
       "      <th>name</th>\n",
       "      <th>sex_</th>\n",
       "      <th>age</th>\n",
       "      <th>time</th>\n",
       "      <th>species_</th>\n",
       "      <th>fatal_(y/n)</th>\n",
       "      <th>injury</th>\n",
       "      <th>date</th>\n",
       "    </tr>\n",
       "    <tr>\n",
       "      <th>unnamed:_0</th>\n",
       "      <th></th>\n",
       "      <th></th>\n",
       "      <th></th>\n",
       "      <th></th>\n",
       "      <th></th>\n",
       "      <th></th>\n",
       "      <th></th>\n",
       "      <th></th>\n",
       "      <th></th>\n",
       "      <th></th>\n",
       "      <th></th>\n",
       "      <th></th>\n",
       "      <th></th>\n",
       "      <th></th>\n",
       "      <th></th>\n",
       "    </tr>\n",
       "  </thead>\n",
       "  <tbody>\n",
       "    <tr>\n",
       "      <th>0</th>\n",
       "      <td>2018.06.25</td>\n",
       "      <td>2018.0</td>\n",
       "      <td>Boating</td>\n",
       "      <td>USA</td>\n",
       "      <td>California</td>\n",
       "      <td>Oceanside, San Diego County</td>\n",
       "      <td>Paddling</td>\n",
       "      <td>Julie Wolfe</td>\n",
       "      <td>F</td>\n",
       "      <td>57</td>\n",
       "      <td>18h00</td>\n",
       "      <td>White shark</td>\n",
       "      <td>N</td>\n",
       "      <td>No injury to occupant, outrigger canoe and pad...</td>\n",
       "      <td>25-Jun-2018</td>\n",
       "    </tr>\n",
       "    <tr>\n",
       "      <th>1</th>\n",
       "      <td>2018.06.18</td>\n",
       "      <td>2018.0</td>\n",
       "      <td>Unprovoked</td>\n",
       "      <td>USA</td>\n",
       "      <td>Georgia</td>\n",
       "      <td>St. Simon Island, Glynn County</td>\n",
       "      <td>Standing</td>\n",
       "      <td>Adyson McNeely</td>\n",
       "      <td>F</td>\n",
       "      <td>11</td>\n",
       "      <td>14h00  -15h00</td>\n",
       "      <td>NaN</td>\n",
       "      <td>N</td>\n",
       "      <td>Minor injury to left thigh</td>\n",
       "      <td>18-Jun-2018</td>\n",
       "    </tr>\n",
       "    <tr>\n",
       "      <th>2</th>\n",
       "      <td>2018.06.09</td>\n",
       "      <td>2018.0</td>\n",
       "      <td>Invalid</td>\n",
       "      <td>USA</td>\n",
       "      <td>Hawaii</td>\n",
       "      <td>Habush, Oahu</td>\n",
       "      <td>Surfing</td>\n",
       "      <td>John Denges</td>\n",
       "      <td>M</td>\n",
       "      <td>48</td>\n",
       "      <td>07h45</td>\n",
       "      <td>NaN</td>\n",
       "      <td>N</td>\n",
       "      <td>Injury to left lower leg from surfboard skeg</td>\n",
       "      <td>09-Jun-2018</td>\n",
       "    </tr>\n",
       "    <tr>\n",
       "      <th>3</th>\n",
       "      <td>2018.06.08</td>\n",
       "      <td>2018.0</td>\n",
       "      <td>Unprovoked</td>\n",
       "      <td>AUSTRALIA</td>\n",
       "      <td>New South Wales</td>\n",
       "      <td>Arrawarra Headland</td>\n",
       "      <td>Surfing</td>\n",
       "      <td>male</td>\n",
       "      <td>M</td>\n",
       "      <td>NaN</td>\n",
       "      <td>NaN</td>\n",
       "      <td>2 m shark</td>\n",
       "      <td>N</td>\n",
       "      <td>Minor injury to lower leg</td>\n",
       "      <td>08-Jun-2018</td>\n",
       "    </tr>\n",
       "    <tr>\n",
       "      <th>4</th>\n",
       "      <td>2018.06.04</td>\n",
       "      <td>2018.0</td>\n",
       "      <td>Provoked</td>\n",
       "      <td>MEXICO</td>\n",
       "      <td>Colima</td>\n",
       "      <td>La Ticla</td>\n",
       "      <td>Free diving</td>\n",
       "      <td>Gustavo Ramos</td>\n",
       "      <td>M</td>\n",
       "      <td>NaN</td>\n",
       "      <td>NaN</td>\n",
       "      <td>Tiger shark, 3m</td>\n",
       "      <td>N</td>\n",
       "      <td>Lacerations to leg &amp; hand shark PROVOKED INCIDENT</td>\n",
       "      <td>04-Jun-2018</td>\n",
       "    </tr>\n",
       "    <tr>\n",
       "      <th>...</th>\n",
       "      <td>...</td>\n",
       "      <td>...</td>\n",
       "      <td>...</td>\n",
       "      <td>...</td>\n",
       "      <td>...</td>\n",
       "      <td>...</td>\n",
       "      <td>...</td>\n",
       "      <td>...</td>\n",
       "      <td>...</td>\n",
       "      <td>...</td>\n",
       "      <td>...</td>\n",
       "      <td>...</td>\n",
       "      <td>...</td>\n",
       "      <td>...</td>\n",
       "      <td>...</td>\n",
       "    </tr>\n",
       "    <tr>\n",
       "      <th>6283</th>\n",
       "      <td>ND.0001</td>\n",
       "      <td>0.0</td>\n",
       "      <td>Unprovoked</td>\n",
       "      <td>CEYLON (SRI LANKA)</td>\n",
       "      <td>Eastern Province</td>\n",
       "      <td>Below the English fort, Trincomalee</td>\n",
       "      <td>Swimming</td>\n",
       "      <td>male</td>\n",
       "      <td>M</td>\n",
       "      <td>15</td>\n",
       "      <td>NaN</td>\n",
       "      <td>NaN</td>\n",
       "      <td>Y</td>\n",
       "      <td>FATAL. \"Shark bit him in half, carrying away t...</td>\n",
       "      <td>1845-1853</td>\n",
       "    </tr>\n",
       "    <tr>\n",
       "      <th>6284</th>\n",
       "      <td>2017.01.08.R</td>\n",
       "      <td>NaN</td>\n",
       "      <td>NaN</td>\n",
       "      <td>NaN</td>\n",
       "      <td>NaN</td>\n",
       "      <td>NaN</td>\n",
       "      <td>NaN</td>\n",
       "      <td>NaN</td>\n",
       "      <td>NaN</td>\n",
       "      <td>NaN</td>\n",
       "      <td>NaN</td>\n",
       "      <td>NaN</td>\n",
       "      <td>NaN</td>\n",
       "      <td>No attack, shark made a threat display</td>\n",
       "      <td>Reported 08-Jan-2017</td>\n",
       "    </tr>\n",
       "    <tr>\n",
       "      <th>6285</th>\n",
       "      <td>1836.08.19.R</td>\n",
       "      <td>NaN</td>\n",
       "      <td>NaN</td>\n",
       "      <td>NaN</td>\n",
       "      <td>NaN</td>\n",
       "      <td>NaN</td>\n",
       "      <td>NaN</td>\n",
       "      <td>NaN</td>\n",
       "      <td>NaN</td>\n",
       "      <td>NaN</td>\n",
       "      <td>NaN</td>\n",
       "      <td>NaN</td>\n",
       "      <td>Y</td>\n",
       "      <td>FATAL</td>\n",
       "      <td>Reported 19-Aug-1836</td>\n",
       "    </tr>\n",
       "    <tr>\n",
       "      <th>6286</th>\n",
       "      <td>0</td>\n",
       "      <td>NaN</td>\n",
       "      <td>NaN</td>\n",
       "      <td>NaN</td>\n",
       "      <td>NaN</td>\n",
       "      <td>NaN</td>\n",
       "      <td>NaN</td>\n",
       "      <td>NaN</td>\n",
       "      <td>NaN</td>\n",
       "      <td>NaN</td>\n",
       "      <td>NaN</td>\n",
       "      <td>NaN</td>\n",
       "      <td>NaN</td>\n",
       "      <td>NaN</td>\n",
       "      <td>NaN</td>\n",
       "    </tr>\n",
       "    <tr>\n",
       "      <th>6287</th>\n",
       "      <td>xx</td>\n",
       "      <td>NaN</td>\n",
       "      <td>NaN</td>\n",
       "      <td>NaN</td>\n",
       "      <td>NaN</td>\n",
       "      <td>NaN</td>\n",
       "      <td>NaN</td>\n",
       "      <td>NaN</td>\n",
       "      <td>NaN</td>\n",
       "      <td>NaN</td>\n",
       "      <td>NaN</td>\n",
       "      <td>NaN</td>\n",
       "      <td>NaN</td>\n",
       "      <td>NaN</td>\n",
       "      <td>NaN</td>\n",
       "    </tr>\n",
       "  </tbody>\n",
       "</table>\n",
       "<p>6288 rows × 15 columns</p>\n",
       "</div>"
      ],
      "text/plain": [
       "             case_number    year        type             country  \\\n",
       "unnamed:_0                                                         \n",
       "0             2018.06.25  2018.0     Boating                 USA   \n",
       "1             2018.06.18  2018.0  Unprovoked                 USA   \n",
       "2             2018.06.09  2018.0     Invalid                 USA   \n",
       "3             2018.06.08  2018.0  Unprovoked           AUSTRALIA   \n",
       "4             2018.06.04  2018.0    Provoked              MEXICO   \n",
       "...                  ...     ...         ...                 ...   \n",
       "6283             ND.0001     0.0  Unprovoked  CEYLON (SRI LANKA)   \n",
       "6284        2017.01.08.R     NaN         NaN                 NaN   \n",
       "6285        1836.08.19.R     NaN         NaN                 NaN   \n",
       "6286                   0     NaN         NaN                 NaN   \n",
       "6287                  xx     NaN         NaN                 NaN   \n",
       "\n",
       "                        area                             location  \\\n",
       "unnamed:_0                                                          \n",
       "0                 California          Oceanside, San Diego County   \n",
       "1                    Georgia       St. Simon Island, Glynn County   \n",
       "2                     Hawaii                         Habush, Oahu   \n",
       "3            New South Wales                   Arrawarra Headland   \n",
       "4                     Colima                             La Ticla   \n",
       "...                      ...                                  ...   \n",
       "6283        Eastern Province  Below the English fort, Trincomalee   \n",
       "6284                     NaN                                  NaN   \n",
       "6285                     NaN                                  NaN   \n",
       "6286                     NaN                                  NaN   \n",
       "6287                     NaN                                  NaN   \n",
       "\n",
       "               activity             name sex_  age           time  \\\n",
       "unnamed:_0                                                          \n",
       "0              Paddling      Julie Wolfe    F   57          18h00   \n",
       "1              Standing  Adyson McNeely     F   11  14h00  -15h00   \n",
       "2               Surfing      John Denges    M   48          07h45   \n",
       "3               Surfing             male    M  NaN            NaN   \n",
       "4           Free diving   Gustavo Ramos     M  NaN            NaN   \n",
       "...                 ...              ...  ...  ...            ...   \n",
       "6283           Swimming             male    M   15            NaN   \n",
       "6284                NaN              NaN  NaN  NaN            NaN   \n",
       "6285                NaN              NaN  NaN  NaN            NaN   \n",
       "6286                NaN              NaN  NaN  NaN            NaN   \n",
       "6287                NaN              NaN  NaN  NaN            NaN   \n",
       "\n",
       "                   species_ fatal_(y/n)  \\\n",
       "unnamed:_0                                \n",
       "0               White shark           N   \n",
       "1                       NaN           N   \n",
       "2                       NaN           N   \n",
       "3                 2 m shark           N   \n",
       "4           Tiger shark, 3m           N   \n",
       "...                     ...         ...   \n",
       "6283                    NaN           Y   \n",
       "6284                    NaN         NaN   \n",
       "6285                    NaN           Y   \n",
       "6286                    NaN         NaN   \n",
       "6287                    NaN         NaN   \n",
       "\n",
       "                                                       injury  \\\n",
       "unnamed:_0                                                      \n",
       "0           No injury to occupant, outrigger canoe and pad...   \n",
       "1                                  Minor injury to left thigh   \n",
       "2                Injury to left lower leg from surfboard skeg   \n",
       "3                                   Minor injury to lower leg   \n",
       "4           Lacerations to leg & hand shark PROVOKED INCIDENT   \n",
       "...                                                       ...   \n",
       "6283        FATAL. \"Shark bit him in half, carrying away t...   \n",
       "6284                   No attack, shark made a threat display   \n",
       "6285                                                    FATAL   \n",
       "6286                                                      NaN   \n",
       "6287                                                      NaN   \n",
       "\n",
       "                            date  \n",
       "unnamed:_0                        \n",
       "0                    25-Jun-2018  \n",
       "1                    18-Jun-2018  \n",
       "2                    09-Jun-2018  \n",
       "3                    08-Jun-2018  \n",
       "4                    04-Jun-2018  \n",
       "...                          ...  \n",
       "6283                   1845-1853  \n",
       "6284        Reported 08-Jan-2017  \n",
       "6285        Reported 19-Aug-1836  \n",
       "6286                         NaN  \n",
       "6287                         NaN  \n",
       "\n",
       "[6288 rows x 15 columns]"
      ]
     },
     "execution_count": 9,
     "metadata": {},
     "output_type": "execute_result"
    }
   ],
   "source": [
    "df2 = df2.set_index(\"unnamed:_0\")\n",
    "df2"
   ]
  },
  {
   "cell_type": "markdown",
   "metadata": {},
   "source": [
    "Al empezar a trabajar con este dataframe ya eliminamos algunas columnas que a priori no nos interesaban. Ahora llega el momento de eliminar alguna columna más. En este caso vamos tendréis que eliminar las columnas que no nos sean útiles para contestar a nuestras preguntas. Pero ojo ⚠️, haced una copia del dataframe para no \"cargarnos\" el dataframe original y perder la info."
   ]
  },
  {
   "cell_type": "markdown",
   "metadata": {},
   "source": [
    "# Ejercicio 1\n",
    "\n",
    "Hay valores duplicados en nuestro dataframe? En caso de que los haya, eliminándolos.\n"
   ]
  },
  {
   "cell_type": "code",
   "execution_count": 10,
   "metadata": {},
   "outputs": [
    {
     "data": {
      "text/plain": [
       "0"
      ]
     },
     "execution_count": 10,
     "metadata": {},
     "output_type": "execute_result"
    }
   ],
   "source": [
    "filas_duplicadas = df2.duplicated().sum()\n",
    "filas_duplicadas"
   ]
  },
  {
   "cell_type": "markdown",
   "metadata": {},
   "source": [
    "No tenemos valores duplicados en nuestro dataframe. ✌️ \n",
    "\n",
    "En caso de que quisiéramos eliminar algún registro duplicado utilizaríamos df.drop.duplicates(subsets = [\"lista_columnas\"])"
   ]
  },
  {
   "cell_type": "markdown",
   "metadata": {},
   "source": [
    "# Ejercicio 2\n",
    "Como hemos visto, algunas columnas no tienen el tipo de datos que deberían. Cambiad el tipo de dato para la columna de year.\n"
   ]
  },
  {
   "cell_type": "code",
   "execution_count": 11,
   "metadata": {},
   "outputs": [
    {
     "data": {
      "text/plain": [
       "case_number     object\n",
       "year           float64\n",
       "type            object\n",
       "country         object\n",
       "area            object\n",
       "location        object\n",
       "activity        object\n",
       "name            object\n",
       "sex_            object\n",
       "age             object\n",
       "time            object\n",
       "species_        object\n",
       "fatal_(y/n)     object\n",
       "injury          object\n",
       "date            object\n",
       "dtype: object"
      ]
     },
     "execution_count": 11,
     "metadata": {},
     "output_type": "execute_result"
    }
   ],
   "source": [
    "df2.dtypes"
   ]
  },
  {
   "cell_type": "code",
   "execution_count": 12,
   "metadata": {},
   "outputs": [
    {
     "data": {
      "text/plain": [
       "case_number     object\n",
       "year           float64\n",
       "type            object\n",
       "country         object\n",
       "area            object\n",
       "location        object\n",
       "activity        object\n",
       "name            object\n",
       "sex_            object\n",
       "age             object\n",
       "time            object\n",
       "species_        object\n",
       "fatal_(y/n)     object\n",
       "injury          object\n",
       "date            object\n",
       "dtype: object"
      ]
     },
     "execution_count": 12,
     "metadata": {},
     "output_type": "execute_result"
    }
   ],
   "source": [
    "#Cambiamos \"year\" a tipo de dato fecha mediante astype\n",
    "df2[\"year\"].astype(\"datetime64\", errors = \"ignore\", copy = True)\n",
    "df2.dtypes"
   ]
  },
  {
   "cell_type": "code",
   "execution_count": 13,
   "metadata": {},
   "outputs": [
    {
     "data": {
      "text/plain": [
       "case_number     object\n",
       "year           float64\n",
       "type            object\n",
       "country         object\n",
       "area            object\n",
       "location        object\n",
       "activity        object\n",
       "name            object\n",
       "sex_            object\n",
       "age             object\n",
       "time            object\n",
       "species_        object\n",
       "fatal_(y/n)     object\n",
       "injury          object\n",
       "date            object\n",
       "dtype: object"
      ]
     },
     "execution_count": 13,
     "metadata": {},
     "output_type": "execute_result"
    }
   ],
   "source": [
    "#Cambiamos a tipo fecha con el método \"to_datetime\" y sigue siendo \"float64\"\n",
    "pd.to_datetime(df2[\"year\"])\n",
    "df2.dtypes"
   ]
  },
  {
   "cell_type": "code",
   "execution_count": 14,
   "metadata": {},
   "outputs": [
    {
     "data": {
      "text/plain": [
       "case_number    object\n",
       "year            Int64\n",
       "type           object\n",
       "country        object\n",
       "area           object\n",
       "location       object\n",
       "activity       object\n",
       "name           object\n",
       "sex_           object\n",
       "age            object\n",
       "time           object\n",
       "species_       object\n",
       "fatal_(y/n)    object\n",
       "injury         object\n",
       "date           object\n",
       "dtype: object"
      ]
     },
     "execution_count": 14,
     "metadata": {},
     "output_type": "execute_result"
    }
   ],
   "source": [
    "#Cambiamos \"year\" a tipo int como en la teoría.\n",
    "\n",
    "df2[\"year\"] = df2[\"year\"].astype('Int64', errors = \"ignore\") \n",
    "df2.dtypes\n",
    "\n",
    "#Nos quedamos con esta versión que creemos que es la correcta y que muestra el año como un int (esto puede facilitar hacer operaciones, como saber diferencia de años xD)"
   ]
  },
  {
   "cell_type": "markdown",
   "metadata": {},
   "source": [
    "# Ejercicio 3\n",
    "En la columna de country poner todos los valores en minúsculas.\n",
    "💡 Pista Tendréis que usar una función o una lambda 💡\n"
   ]
  },
  {
   "cell_type": "code",
   "execution_count": 29,
   "metadata": {},
   "outputs": [
    {
     "data": {
      "text/plain": [
       "dtype('O')"
      ]
     },
     "execution_count": 29,
     "metadata": {},
     "output_type": "execute_result"
    }
   ],
   "source": [
    "df2[\"country\"].dtypes"
   ]
  },
  {
   "cell_type": "code",
   "execution_count": 51,
   "metadata": {},
   "outputs": [
    {
     "data": {
      "text/plain": [
       "54"
      ]
     },
     "execution_count": 51,
     "metadata": {},
     "output_type": "execute_result"
    }
   ],
   "source": [
    "df2[\"country\"].isna().sum()"
   ]
  },
  {
   "cell_type": "code",
   "execution_count": 54,
   "metadata": {},
   "outputs": [
    {
     "data": {
      "text/plain": [
       "USA                      2222\n",
       "AUSTRALIA                1335\n",
       "SOUTH AFRICA              577\n",
       "PAPUA NEW GUINEA          134\n",
       "NEW ZEALAND               127\n",
       "                         ... \n",
       "ARGENTINA                   1\n",
       "SUDAN?                      1\n",
       "THE BALKANS                 1\n",
       "NORTH ATLANTIC OCEAN        1\n",
       "CEYLON (SRI LANKA)          1\n",
       "Name: country, Length: 212, dtype: int64"
      ]
     },
     "execution_count": 54,
     "metadata": {},
     "output_type": "execute_result"
    }
   ],
   "source": [
    "\n",
    "\n",
    "df2[\"country\"]."
   ]
  },
  {
   "cell_type": "code",
   "execution_count": 50,
   "metadata": {},
   "outputs": [
    {
     "data": {
      "text/plain": [
       "dtype('O')"
      ]
     },
     "execution_count": 50,
     "metadata": {},
     "output_type": "execute_result"
    }
   ],
   "source": [
    "df2[\"country\"].dtypes"
   ]
  },
  {
   "cell_type": "code",
   "execution_count": 57,
   "metadata": {},
   "outputs": [],
   "source": [
    "def minusculizator (columna):\n",
    "    try:\n",
    "        columna = columna.lower()\n",
    "    except:\n",
    "        pass\n",
    "    return columna"
   ]
  },
  {
   "cell_type": "code",
   "execution_count": 59,
   "metadata": {},
   "outputs": [
    {
     "data": {
      "text/plain": [
       "unnamed:_0\n",
       "0                      usa\n",
       "1                      usa\n",
       "2                      usa\n",
       "3                australia\n",
       "4                   mexico\n",
       "               ...        \n",
       "6283    ceylon (sri lanka)\n",
       "6284                   NaN\n",
       "6285                   NaN\n",
       "6286                   NaN\n",
       "6287                   NaN\n",
       "Name: country, Length: 6288, dtype: object"
      ]
     },
     "execution_count": 59,
     "metadata": {},
     "output_type": "execute_result"
    }
   ],
   "source": [
    "df2[\"country\"] = df2[\"country\"].apply(minusculizator)\n",
    "\n",
    "df2[\"country\"] "
   ]
  },
  {
   "cell_type": "markdown",
   "metadata": {},
   "source": [
    "# Ejercicio 4\n",
    "Guardamos el csv para seguir trabajando en el siguiente ejercicio de pair de limpieza."
   ]
  },
  {
   "cell_type": "code",
   "execution_count": 52,
   "metadata": {},
   "outputs": [],
   "source": [
    "df2.to_csv(\"ataques_enproceso.csv\")"
   ]
  }
 ],
 "metadata": {
  "interpreter": {
   "hash": "0620710c65b0f5ccc651a2aa8870ae0eb4c70492424a8d7866846658189426a3"
  },
  "kernelspec": {
   "display_name": "Python 3.9.7 ('base')",
   "language": "python",
   "name": "python3"
  },
  "language_info": {
   "codemirror_mode": {
    "name": "ipython",
    "version": 3
   },
   "file_extension": ".py",
   "mimetype": "text/x-python",
   "name": "python",
   "nbconvert_exporter": "python",
   "pygments_lexer": "ipython3",
   "version": "3.9.7"
  },
  "orig_nbformat": 4
 },
 "nbformat": 4,
 "nbformat_minor": 2
}
